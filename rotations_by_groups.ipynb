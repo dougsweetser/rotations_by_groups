{
 "cells": [
  {
   "cell_type": "markdown",
   "metadata": {},
   "source": [
    "# Rotations by Groups"
   ]
  },
  {
   "cell_type": "markdown",
   "metadata": {},
   "source": [
    "## Blank Purpose"
   ]
  },
  {
   "cell_type": "markdown",
   "metadata": {},
   "source": [
    "See if we can get this to work."
   ]
  },
  {
   "cell_type": "code",
   "execution_count": null,
   "metadata": {},
   "outputs": [],
   "source": [
    "%%capture\n",
    "%matplotlib inline\n",
    "import numpy as np\n",
    "import sympy as sp\n",
    "import matplotlib.pyplot as plt\n",
    "import math\n",
    "import nbdev\n",
    "import pytest\n",
    "import ipytest # %%run_pytest -qq   Note: acting buggy, bummer\n",
    "\n",
    "# To get equations the look like, well, equations, use the following.\n",
    "from sympy.interactive import printing\n",
    "printing.init_printing(use_latex=True)\n",
    "from IPython.display import display\n",
    "\n",
    "# Tools for manipulating quaternions.\n",
    "from Qs import *;\n",
    "\n",
    "from IPython.core.display import display, HTML, Math, Latex\n",
    "display(HTML(\"<style>.container { width:100% !important; }</style>\"))"
   ]
  },
  {
   "cell_type": "code",
   "execution_count": null,
   "metadata": {},
   "outputs": [],
   "source": [
    "import streamlit as st\n",
    "import plotly.graph_objects as go\n",
    "import textwrap\n",
    "from PIL import Image\n",
    "\n"
   ]
  },
  {
   "cell_type": "code",
   "execution_count": null,
   "metadata": {},
   "outputs": [],
   "source": [
    "# Sidebar setup.\n",
    "#group_product = st.sidebar.checkbox(label=\"q X q' = q'' \", value=True)\n",
    "#group_product_randomized = st.sidebar.checkbox(label=\"Randomized(q X q' = q''')\", value=True)\n",
    "#dim = st.sidebar.slider(label=\"Dimensions\", min_value=10, max_value=500, value=75)\n",
    "dim = 10\n",
    "\n",
    "#show_code = st.sidebar.checkbox(\"Show code\", False)\n",
    "\n",
    "# The calculation - make a DataFrame\n",
    "point_1 = Q([1, 1, 2, 3])\n",
    "point_2 = Q([1, 3, 2, 1])\n",
    "\n",
    "\n",
    "next_list = [point_1, point_2]\n",
    "next_list_randomized = [point_1, point_2]\n",
    "\n",
    "for _ in range(dim):\n",
    "    next_list.append(Lorentz_next_rotation(next_list[-2], next_list[-1]))\n",
    "    next_list_randomized.append(Lorentz_next_randomized_rotation(next_list_randomized[-2], next_list_randomized[-1]))"
   ]
  },
  {
   "cell_type": "code",
   "execution_count": null,
   "metadata": {},
   "outputs": [],
   "source": [
    "print(Qs(next_list).print_state(\"nl\"))\n",
    "print(Qs(next_list_randomized).print_state(\"nl\"))"
   ]
  },
  {
   "cell_type": "code",
   "execution_count": null,
   "metadata": {},
   "outputs": [],
   "source": [
    "generate_QQs(Lorentz_next_rotation, point_1, point_2, 5).print_state(\"lnr\")"
   ]
  },
  {
   "cell_type": "code",
   "execution_count": null,
   "metadata": {},
   "outputs": [],
   "source": [
    "dim=10\n",
    "group_product_data = generate_QQs(Lorentz_next_rotation, point_1, point_2, dim=dim)\n",
    "group_product_randomized_data = generate_QQs(Lorentz_next_randomized_rotation, point_1, point_2, dim=dim)\n",
    "\n",
    "group_product_data.print_state(\"gpd\")"
   ]
  },
  {
   "cell_type": "code",
   "execution_count": null,
   "metadata": {},
   "outputs": [],
   "source": [
    "# collect stats\n",
    "group_product_data_squares = squares(group_product_data)\n",
    "group_product_data_norm_squares = norm_squareds(group_product_data)\n",
    "\n",
    "group_product_randomized_data_squares = squares(group_product_randomized_data)\n",
    "group_product_randomized_data_norm_squares = norm_squareds(group_product_randomized_data)"
   ]
  },
  {
   "cell_type": "code",
   "execution_count": null,
   "metadata": {},
   "outputs": [],
   "source": [
    "group_product_randomized_data_squares.print_state(\"rand sq\")"
   ]
  },
  {
   "cell_type": "code",
   "execution_count": null,
   "metadata": {},
   "outputs": [],
   "source": [
    "group_product_data.df"
   ]
  },
  {
   "cell_type": "code",
   "execution_count": null,
   "metadata": {},
   "outputs": [],
   "source": [
    "group_product_data.df['x']"
   ]
  },
  {
   "cell_type": "code",
   "execution_count": null,
   "metadata": {},
   "outputs": [],
   "source": [
    "\n",
    "\n",
    "# Main page.\n",
    "\n",
    "st.title(\"Rotations by Groups\")\n",
    "\n",
    "fig = go.Figure()\n",
    "go.Layout()\n",
    "POINT_SIZE = 6\n",
    "OPACITY = 0.4\n",
    "\n",
    "if group_product:\n",
    "    fig.add_trace(\n",
    "        go.Scatter3d(\n",
    "            {\n",
    "                \"x\": group_product_data.df[1],\n",
    "                \"y\": group_product_data.df[2],\n",
    "                \"z\": group_product_data.df[3],\n",
    "            },\n",
    "            name=\"q X q' = q''\",\n",
    "            mode=\"markers\",\n",
    "            marker=dict(size=POINT_SIZE, opacity=OPACITY, color=\"blue\"),\n",
    "        )\n",
    "    )\n",
    "\n",
    "if group_product_randomized:\n",
    "    fig.add_trace(\n",
    "        go.Scatter3d(\n",
    "            {\n",
    "                \"x\": group_product_randomized_data.df[1],\n",
    "                \"y\": group_product_randomized_data.df[2],\n",
    "                \"z\": group_product_randomized_data.df[3],\n",
    "            },\n",
    "            name=\"Randomized(q X q') = q''\",\n",
    "            mode=\"markers\",\n",
    "            marker=dict(size=POINT_SIZE, opacity=OPACITY, color=\"yellow\"),\n",
    "        )\n",
    "    )\n",
    "\n",
    "st.write(fig)\n",
    "\n",
    "st.markdown(\"### Norm Squared and Squared Values\")\n",
    "\n",
    "table = f\"\"\"t² + R² | t²-R² | 2 t x | 2 t y | 2 t z\n",
    "--- | --- | --- | -- | --\n",
    "\"\"\"\n",
    "\n",
    "if group_product:\n",
    "    means = group_product_data_squares.df.mean()\n",
    "    square = group_product_data_norm_squares.df[0] / dim\n",
    "    table += f\"{square[0]:.2f} | {means[0]:.2f} | {means[1]:.2f} | {means[2]:.2f} | {means[3]:.2f}\\n\"\n",
    "\n",
    "if group_product_randomized:\n",
    "    means = group_product_randomized_data_squares.df.mean()\n",
    "    square = group_product_randomized_data_norm_squares.df[0] / dim\n",
    "    table += f\"{square[0]:.2f} | {means[0]:.2f} | {means[1]:.2f} | {means[2]:.2f} | {means[3]:.2f}\"\n",
    "\n",
    "st.markdown(f\"{table}\")"
   ]
  },
  {
   "cell_type": "code",
   "execution_count": null,
   "metadata": {},
   "outputs": [],
   "source": [
    "import itertools\n",
    "from pprint import pprint\n",
    "\n",
    "variations = itertools.permutations(\"txyz\")\n",
    "for variaton in variations:\n",
    "    print(variaton)"
   ]
  },
  {
   "cell_type": "code",
   "execution_count": null,
   "metadata": {},
   "outputs": [],
   "source": []
  }
 ],
 "metadata": {
  "language_info": {
   "name": "python",
   "pygments_lexer": "ipython3"
  }
 },
 "nbformat": 4,
 "nbformat_minor": 4
}
